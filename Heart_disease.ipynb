{
 "cells": [
  {
   "cell_type": "markdown",
   "id": "6cfd1a2f",
   "metadata": {},
   "source": [
    "Перед нами датасет с 13 показателями здоровья, которые помогут определить, есть ли болезнь сердца у человека, а так же целевая переменная, которая показывает наличие или отсутствие заболевания.\n"
   ]
  },
  {
   "cell_type": "markdown",
   "id": "9b1ffb2e",
   "metadata": {},
   "source": [
    "\n",
    "*\tage - возраст;\n",
    "*\tsex - пол ;\n",
    "*\tcp - тип боли в груди (типы: 0,1,2,3);\n",
    "*\ttrestbps - артериальное давление в покое;\n",
    "*\tchol – показатели холестерина;\n",
    "*\tfbs - уровень сахара (0 - если сахар в норме, 1 - если выше нормы);\n",
    "*\trestecg - результаты экг в покое (значения 0,1,2);\n",
    "*\tthalach – максимальная частота сердечных сокращений(пульса);\n",
    "*\texang - стенокардия, вызванная физической нагрузкой (0 - если нет стенокардии, 1 - если есть);\n",
    "*\toldpeak - Депрессия ST;\n",
    "*\tslope - наклон сегмента ST при пиковой нагрузке(значения 0,1,2);\n",
    "*\tca - количество крупных сосудов (значения 0,1,2,3);\n",
    "*\tthal - талассемия (значения 0,1,2,3);\n",
    "*   target – наличие, отсутствие серечного заболевания (0 - если нет заболевания, 1 - если есть).\n"
   ]
  },
  {
   "cell_type": "markdown",
   "id": "9c0bbb38",
   "metadata": {},
   "source": [
    "Сначала составим описательную статистику, удалим выбросы, посмотрим на корреляцию параметров и затем попробуем предсказать линейный параметр с помощью линейной регрессии и бинарный параметр с помощью логистической регрессии."
   ]
  },
  {
   "cell_type": "code",
   "execution_count": 150,
   "id": "02693acd",
   "metadata": {},
   "outputs": [],
   "source": [
    "import matplotlib.pyplot as plt\n",
    "from scipy import stats\n",
    "import scipy.stats as sts\n",
    "import seaborn as sns\n",
    "%matplotlib inline\n",
    "\n",
    "import numpy as np\n",
    "from sklearn.model_selection import train_test_split\n",
    "from sklearn.linear_model import LinearRegression\n",
    "from sklearn.linear_model import LogisticRegression\n",
    "from sklearn.metrics import mean_squared_error\n",
    "from sklearn.metrics import confusion_matrix\n",
    "import statsmodels.api as sm\n",
    "import pandas as pd\n"
   ]
  },
  {
   "cell_type": "code",
   "execution_count": 109,
   "id": "d26dd893",
   "metadata": {},
   "outputs": [
    {
     "data": {
      "text/html": [
       "<div>\n",
       "<style scoped>\n",
       "    .dataframe tbody tr th:only-of-type {\n",
       "        vertical-align: middle;\n",
       "    }\n",
       "\n",
       "    .dataframe tbody tr th {\n",
       "        vertical-align: top;\n",
       "    }\n",
       "\n",
       "    .dataframe thead th {\n",
       "        text-align: right;\n",
       "    }\n",
       "</style>\n",
       "<table border=\"1\" class=\"dataframe\">\n",
       "  <thead>\n",
       "    <tr style=\"text-align: right;\">\n",
       "      <th></th>\n",
       "      <th>number</th>\n",
       "      <th>age</th>\n",
       "      <th>sex</th>\n",
       "      <th>cp</th>\n",
       "      <th>trestbps</th>\n",
       "      <th>chol</th>\n",
       "      <th>fbs</th>\n",
       "      <th>restecg</th>\n",
       "      <th>thalach</th>\n",
       "      <th>exang</th>\n",
       "      <th>oldpeak</th>\n",
       "      <th>slope</th>\n",
       "      <th>ca</th>\n",
       "      <th>thal</th>\n",
       "      <th>target</th>\n",
       "    </tr>\n",
       "  </thead>\n",
       "  <tbody>\n",
       "    <tr>\n",
       "      <th>0</th>\n",
       "      <td>1</td>\n",
       "      <td>63</td>\n",
       "      <td>1</td>\n",
       "      <td>3</td>\n",
       "      <td>145</td>\n",
       "      <td>233</td>\n",
       "      <td>1</td>\n",
       "      <td>0</td>\n",
       "      <td>150</td>\n",
       "      <td>0</td>\n",
       "      <td>2.3</td>\n",
       "      <td>0</td>\n",
       "      <td>0</td>\n",
       "      <td>1</td>\n",
       "      <td>1</td>\n",
       "    </tr>\n",
       "    <tr>\n",
       "      <th>1</th>\n",
       "      <td>2</td>\n",
       "      <td>37</td>\n",
       "      <td>1</td>\n",
       "      <td>2</td>\n",
       "      <td>130</td>\n",
       "      <td>250</td>\n",
       "      <td>0</td>\n",
       "      <td>1</td>\n",
       "      <td>187</td>\n",
       "      <td>0</td>\n",
       "      <td>3.5</td>\n",
       "      <td>0</td>\n",
       "      <td>0</td>\n",
       "      <td>2</td>\n",
       "      <td>1</td>\n",
       "    </tr>\n",
       "    <tr>\n",
       "      <th>2</th>\n",
       "      <td>3</td>\n",
       "      <td>41</td>\n",
       "      <td>0</td>\n",
       "      <td>1</td>\n",
       "      <td>130</td>\n",
       "      <td>204</td>\n",
       "      <td>0</td>\n",
       "      <td>0</td>\n",
       "      <td>172</td>\n",
       "      <td>0</td>\n",
       "      <td>1.4</td>\n",
       "      <td>2</td>\n",
       "      <td>0</td>\n",
       "      <td>2</td>\n",
       "      <td>1</td>\n",
       "    </tr>\n",
       "    <tr>\n",
       "      <th>3</th>\n",
       "      <td>4</td>\n",
       "      <td>56</td>\n",
       "      <td>1</td>\n",
       "      <td>1</td>\n",
       "      <td>120</td>\n",
       "      <td>236</td>\n",
       "      <td>0</td>\n",
       "      <td>1</td>\n",
       "      <td>178</td>\n",
       "      <td>0</td>\n",
       "      <td>0.8</td>\n",
       "      <td>2</td>\n",
       "      <td>0</td>\n",
       "      <td>2</td>\n",
       "      <td>1</td>\n",
       "    </tr>\n",
       "    <tr>\n",
       "      <th>4</th>\n",
       "      <td>5</td>\n",
       "      <td>57</td>\n",
       "      <td>0</td>\n",
       "      <td>0</td>\n",
       "      <td>120</td>\n",
       "      <td>354</td>\n",
       "      <td>0</td>\n",
       "      <td>1</td>\n",
       "      <td>163</td>\n",
       "      <td>1</td>\n",
       "      <td>0.6</td>\n",
       "      <td>2</td>\n",
       "      <td>0</td>\n",
       "      <td>2</td>\n",
       "      <td>1</td>\n",
       "    </tr>\n",
       "    <tr>\n",
       "      <th>...</th>\n",
       "      <td>...</td>\n",
       "      <td>...</td>\n",
       "      <td>...</td>\n",
       "      <td>...</td>\n",
       "      <td>...</td>\n",
       "      <td>...</td>\n",
       "      <td>...</td>\n",
       "      <td>...</td>\n",
       "      <td>...</td>\n",
       "      <td>...</td>\n",
       "      <td>...</td>\n",
       "      <td>...</td>\n",
       "      <td>...</td>\n",
       "      <td>...</td>\n",
       "      <td>...</td>\n",
       "    </tr>\n",
       "    <tr>\n",
       "      <th>298</th>\n",
       "      <td>299</td>\n",
       "      <td>57</td>\n",
       "      <td>0</td>\n",
       "      <td>0</td>\n",
       "      <td>140</td>\n",
       "      <td>241</td>\n",
       "      <td>0</td>\n",
       "      <td>1</td>\n",
       "      <td>123</td>\n",
       "      <td>1</td>\n",
       "      <td>0.2</td>\n",
       "      <td>1</td>\n",
       "      <td>0</td>\n",
       "      <td>3</td>\n",
       "      <td>0</td>\n",
       "    </tr>\n",
       "    <tr>\n",
       "      <th>299</th>\n",
       "      <td>300</td>\n",
       "      <td>45</td>\n",
       "      <td>1</td>\n",
       "      <td>3</td>\n",
       "      <td>110</td>\n",
       "      <td>264</td>\n",
       "      <td>0</td>\n",
       "      <td>1</td>\n",
       "      <td>132</td>\n",
       "      <td>0</td>\n",
       "      <td>1.2</td>\n",
       "      <td>1</td>\n",
       "      <td>0</td>\n",
       "      <td>3</td>\n",
       "      <td>0</td>\n",
       "    </tr>\n",
       "    <tr>\n",
       "      <th>300</th>\n",
       "      <td>301</td>\n",
       "      <td>68</td>\n",
       "      <td>1</td>\n",
       "      <td>0</td>\n",
       "      <td>144</td>\n",
       "      <td>193</td>\n",
       "      <td>1</td>\n",
       "      <td>1</td>\n",
       "      <td>141</td>\n",
       "      <td>0</td>\n",
       "      <td>3.4</td>\n",
       "      <td>1</td>\n",
       "      <td>2</td>\n",
       "      <td>3</td>\n",
       "      <td>0</td>\n",
       "    </tr>\n",
       "    <tr>\n",
       "      <th>301</th>\n",
       "      <td>302</td>\n",
       "      <td>57</td>\n",
       "      <td>1</td>\n",
       "      <td>0</td>\n",
       "      <td>130</td>\n",
       "      <td>131</td>\n",
       "      <td>0</td>\n",
       "      <td>1</td>\n",
       "      <td>115</td>\n",
       "      <td>1</td>\n",
       "      <td>1.2</td>\n",
       "      <td>1</td>\n",
       "      <td>1</td>\n",
       "      <td>3</td>\n",
       "      <td>0</td>\n",
       "    </tr>\n",
       "    <tr>\n",
       "      <th>302</th>\n",
       "      <td>303</td>\n",
       "      <td>57</td>\n",
       "      <td>0</td>\n",
       "      <td>1</td>\n",
       "      <td>130</td>\n",
       "      <td>236</td>\n",
       "      <td>0</td>\n",
       "      <td>0</td>\n",
       "      <td>174</td>\n",
       "      <td>0</td>\n",
       "      <td>0.0</td>\n",
       "      <td>1</td>\n",
       "      <td>1</td>\n",
       "      <td>2</td>\n",
       "      <td>0</td>\n",
       "    </tr>\n",
       "  </tbody>\n",
       "</table>\n",
       "<p>303 rows × 15 columns</p>\n",
       "</div>"
      ],
      "text/plain": [
       "     number  age  sex  cp  trestbps  chol  fbs  restecg  thalach  exang  \\\n",
       "0         1   63    1   3       145   233    1        0      150      0   \n",
       "1         2   37    1   2       130   250    0        1      187      0   \n",
       "2         3   41    0   1       130   204    0        0      172      0   \n",
       "3         4   56    1   1       120   236    0        1      178      0   \n",
       "4         5   57    0   0       120   354    0        1      163      1   \n",
       "..      ...  ...  ...  ..       ...   ...  ...      ...      ...    ...   \n",
       "298     299   57    0   0       140   241    0        1      123      1   \n",
       "299     300   45    1   3       110   264    0        1      132      0   \n",
       "300     301   68    1   0       144   193    1        1      141      0   \n",
       "301     302   57    1   0       130   131    0        1      115      1   \n",
       "302     303   57    0   1       130   236    0        0      174      0   \n",
       "\n",
       "     oldpeak  slope  ca  thal  target  \n",
       "0        2.3      0   0     1       1  \n",
       "1        3.5      0   0     2       1  \n",
       "2        1.4      2   0     2       1  \n",
       "3        0.8      2   0     2       1  \n",
       "4        0.6      2   0     2       1  \n",
       "..       ...    ...  ..   ...     ...  \n",
       "298      0.2      1   0     3       0  \n",
       "299      1.2      1   0     3       0  \n",
       "300      3.4      1   2     3       0  \n",
       "301      1.2      1   1     3       0  \n",
       "302      0.0      1   1     2       0  \n",
       "\n",
       "[303 rows x 15 columns]"
      ]
     },
     "execution_count": 109,
     "metadata": {},
     "output_type": "execute_result"
    }
   ],
   "source": [
    "heart = pd.read_csv('heart.csv')\n",
    "heart"
   ]
  },
  {
   "cell_type": "code",
   "execution_count": 110,
   "id": "e3daf3f7",
   "metadata": {},
   "outputs": [],
   "source": [
    "#удалим колонку, которая не дает никакой нужной информации\n",
    "heart.drop(['number'], inplace=True, axis=1)"
   ]
  },
  {
   "cell_type": "markdown",
   "id": "2cad666a",
   "metadata": {},
   "source": [
    "Сначала посмотрим на тип данных и на описательную статистику, и узнаем есть ли пропущенные значения в данных"
   ]
  },
  {
   "cell_type": "code",
   "execution_count": 111,
   "id": "c7fbb7a2",
   "metadata": {},
   "outputs": [
    {
     "data": {
      "text/plain": [
       "age           int64\n",
       "sex           int64\n",
       "cp            int64\n",
       "trestbps      int64\n",
       "chol          int64\n",
       "fbs           int64\n",
       "restecg       int64\n",
       "thalach       int64\n",
       "exang         int64\n",
       "oldpeak     float64\n",
       "slope         int64\n",
       "ca            int64\n",
       "thal          int64\n",
       "target        int64\n",
       "dtype: object"
      ]
     },
     "execution_count": 111,
     "metadata": {},
     "output_type": "execute_result"
    }
   ],
   "source": [
    "heart.dtypes"
   ]
  },
  {
   "cell_type": "code",
   "execution_count": 112,
   "id": "0e222b6e",
   "metadata": {},
   "outputs": [
    {
     "data": {
      "text/html": [
       "<div>\n",
       "<style scoped>\n",
       "    .dataframe tbody tr th:only-of-type {\n",
       "        vertical-align: middle;\n",
       "    }\n",
       "\n",
       "    .dataframe tbody tr th {\n",
       "        vertical-align: top;\n",
       "    }\n",
       "\n",
       "    .dataframe thead th {\n",
       "        text-align: right;\n",
       "    }\n",
       "</style>\n",
       "<table border=\"1\" class=\"dataframe\">\n",
       "  <thead>\n",
       "    <tr style=\"text-align: right;\">\n",
       "      <th></th>\n",
       "      <th>age</th>\n",
       "      <th>sex</th>\n",
       "      <th>cp</th>\n",
       "      <th>trestbps</th>\n",
       "      <th>chol</th>\n",
       "      <th>fbs</th>\n",
       "      <th>restecg</th>\n",
       "      <th>thalach</th>\n",
       "      <th>exang</th>\n",
       "      <th>oldpeak</th>\n",
       "      <th>slope</th>\n",
       "      <th>ca</th>\n",
       "      <th>thal</th>\n",
       "      <th>target</th>\n",
       "    </tr>\n",
       "  </thead>\n",
       "  <tbody>\n",
       "    <tr>\n",
       "      <th>count</th>\n",
       "      <td>303.000000</td>\n",
       "      <td>303.000000</td>\n",
       "      <td>303.000000</td>\n",
       "      <td>303.000000</td>\n",
       "      <td>303.000000</td>\n",
       "      <td>303.000000</td>\n",
       "      <td>303.000000</td>\n",
       "      <td>303.000000</td>\n",
       "      <td>303.000000</td>\n",
       "      <td>303.000000</td>\n",
       "      <td>303.000000</td>\n",
       "      <td>303.000000</td>\n",
       "      <td>303.000000</td>\n",
       "      <td>303.000000</td>\n",
       "    </tr>\n",
       "    <tr>\n",
       "      <th>mean</th>\n",
       "      <td>54.366337</td>\n",
       "      <td>0.683168</td>\n",
       "      <td>0.966997</td>\n",
       "      <td>131.623762</td>\n",
       "      <td>246.264026</td>\n",
       "      <td>0.148515</td>\n",
       "      <td>0.528053</td>\n",
       "      <td>149.646865</td>\n",
       "      <td>0.326733</td>\n",
       "      <td>1.039604</td>\n",
       "      <td>1.399340</td>\n",
       "      <td>0.729373</td>\n",
       "      <td>2.313531</td>\n",
       "      <td>0.544554</td>\n",
       "    </tr>\n",
       "    <tr>\n",
       "      <th>std</th>\n",
       "      <td>9.082101</td>\n",
       "      <td>0.466011</td>\n",
       "      <td>1.032052</td>\n",
       "      <td>17.538143</td>\n",
       "      <td>51.830751</td>\n",
       "      <td>0.356198</td>\n",
       "      <td>0.525860</td>\n",
       "      <td>22.905161</td>\n",
       "      <td>0.469794</td>\n",
       "      <td>1.161075</td>\n",
       "      <td>0.616226</td>\n",
       "      <td>1.022606</td>\n",
       "      <td>0.612277</td>\n",
       "      <td>0.498835</td>\n",
       "    </tr>\n",
       "    <tr>\n",
       "      <th>min</th>\n",
       "      <td>29.000000</td>\n",
       "      <td>0.000000</td>\n",
       "      <td>0.000000</td>\n",
       "      <td>94.000000</td>\n",
       "      <td>126.000000</td>\n",
       "      <td>0.000000</td>\n",
       "      <td>0.000000</td>\n",
       "      <td>71.000000</td>\n",
       "      <td>0.000000</td>\n",
       "      <td>0.000000</td>\n",
       "      <td>0.000000</td>\n",
       "      <td>0.000000</td>\n",
       "      <td>0.000000</td>\n",
       "      <td>0.000000</td>\n",
       "    </tr>\n",
       "    <tr>\n",
       "      <th>25%</th>\n",
       "      <td>47.500000</td>\n",
       "      <td>0.000000</td>\n",
       "      <td>0.000000</td>\n",
       "      <td>120.000000</td>\n",
       "      <td>211.000000</td>\n",
       "      <td>0.000000</td>\n",
       "      <td>0.000000</td>\n",
       "      <td>133.500000</td>\n",
       "      <td>0.000000</td>\n",
       "      <td>0.000000</td>\n",
       "      <td>1.000000</td>\n",
       "      <td>0.000000</td>\n",
       "      <td>2.000000</td>\n",
       "      <td>0.000000</td>\n",
       "    </tr>\n",
       "    <tr>\n",
       "      <th>50%</th>\n",
       "      <td>55.000000</td>\n",
       "      <td>1.000000</td>\n",
       "      <td>1.000000</td>\n",
       "      <td>130.000000</td>\n",
       "      <td>240.000000</td>\n",
       "      <td>0.000000</td>\n",
       "      <td>1.000000</td>\n",
       "      <td>153.000000</td>\n",
       "      <td>0.000000</td>\n",
       "      <td>0.800000</td>\n",
       "      <td>1.000000</td>\n",
       "      <td>0.000000</td>\n",
       "      <td>2.000000</td>\n",
       "      <td>1.000000</td>\n",
       "    </tr>\n",
       "    <tr>\n",
       "      <th>75%</th>\n",
       "      <td>61.000000</td>\n",
       "      <td>1.000000</td>\n",
       "      <td>2.000000</td>\n",
       "      <td>140.000000</td>\n",
       "      <td>274.500000</td>\n",
       "      <td>0.000000</td>\n",
       "      <td>1.000000</td>\n",
       "      <td>166.000000</td>\n",
       "      <td>1.000000</td>\n",
       "      <td>1.600000</td>\n",
       "      <td>2.000000</td>\n",
       "      <td>1.000000</td>\n",
       "      <td>3.000000</td>\n",
       "      <td>1.000000</td>\n",
       "    </tr>\n",
       "    <tr>\n",
       "      <th>max</th>\n",
       "      <td>77.000000</td>\n",
       "      <td>1.000000</td>\n",
       "      <td>3.000000</td>\n",
       "      <td>200.000000</td>\n",
       "      <td>564.000000</td>\n",
       "      <td>1.000000</td>\n",
       "      <td>2.000000</td>\n",
       "      <td>202.000000</td>\n",
       "      <td>1.000000</td>\n",
       "      <td>6.200000</td>\n",
       "      <td>2.000000</td>\n",
       "      <td>4.000000</td>\n",
       "      <td>3.000000</td>\n",
       "      <td>1.000000</td>\n",
       "    </tr>\n",
       "  </tbody>\n",
       "</table>\n",
       "</div>"
      ],
      "text/plain": [
       "              age         sex          cp    trestbps        chol         fbs  \\\n",
       "count  303.000000  303.000000  303.000000  303.000000  303.000000  303.000000   \n",
       "mean    54.366337    0.683168    0.966997  131.623762  246.264026    0.148515   \n",
       "std      9.082101    0.466011    1.032052   17.538143   51.830751    0.356198   \n",
       "min     29.000000    0.000000    0.000000   94.000000  126.000000    0.000000   \n",
       "25%     47.500000    0.000000    0.000000  120.000000  211.000000    0.000000   \n",
       "50%     55.000000    1.000000    1.000000  130.000000  240.000000    0.000000   \n",
       "75%     61.000000    1.000000    2.000000  140.000000  274.500000    0.000000   \n",
       "max     77.000000    1.000000    3.000000  200.000000  564.000000    1.000000   \n",
       "\n",
       "          restecg     thalach       exang     oldpeak       slope          ca  \\\n",
       "count  303.000000  303.000000  303.000000  303.000000  303.000000  303.000000   \n",
       "mean     0.528053  149.646865    0.326733    1.039604    1.399340    0.729373   \n",
       "std      0.525860   22.905161    0.469794    1.161075    0.616226    1.022606   \n",
       "min      0.000000   71.000000    0.000000    0.000000    0.000000    0.000000   \n",
       "25%      0.000000  133.500000    0.000000    0.000000    1.000000    0.000000   \n",
       "50%      1.000000  153.000000    0.000000    0.800000    1.000000    0.000000   \n",
       "75%      1.000000  166.000000    1.000000    1.600000    2.000000    1.000000   \n",
       "max      2.000000  202.000000    1.000000    6.200000    2.000000    4.000000   \n",
       "\n",
       "             thal      target  \n",
       "count  303.000000  303.000000  \n",
       "mean     2.313531    0.544554  \n",
       "std      0.612277    0.498835  \n",
       "min      0.000000    0.000000  \n",
       "25%      2.000000    0.000000  \n",
       "50%      2.000000    1.000000  \n",
       "75%      3.000000    1.000000  \n",
       "max      3.000000    1.000000  "
      ]
     },
     "execution_count": 112,
     "metadata": {},
     "output_type": "execute_result"
    }
   ],
   "source": [
    "heart.describe()"
   ]
  },
  {
   "cell_type": "code",
   "execution_count": 113,
   "id": "502ddd97",
   "metadata": {},
   "outputs": [
    {
     "data": {
      "text/plain": [
       "age         0\n",
       "sex         0\n",
       "cp          0\n",
       "trestbps    0\n",
       "chol        0\n",
       "fbs         0\n",
       "restecg     0\n",
       "thalach     0\n",
       "exang       0\n",
       "oldpeak     0\n",
       "slope       0\n",
       "ca          0\n",
       "thal        0\n",
       "target      0\n",
       "dtype: int64"
      ]
     },
     "execution_count": 113,
     "metadata": {},
     "output_type": "execute_result"
    }
   ],
   "source": [
    "heart.isna().sum()"
   ]
  },
  {
   "cell_type": "markdown",
   "id": "dd2aae7f",
   "metadata": {},
   "source": [
    "Итак, в данных преобладает целый тип, отсутствуют пропущенные значения. Получено первичное представление о статистических характеристиках, например, в датасете преобладают люди зрелого возраста, у показателя холестерин больше всех разбросаны значения, в выходном параметре target несколько больше людей, у которых обнаружена болезнь, чем здоровых."
   ]
  },
  {
   "cell_type": "markdown",
   "id": "cc622a87",
   "metadata": {},
   "source": [
    "Следующим шагом будет выяление нетипичных данных."
   ]
  },
  {
   "cell_type": "code",
   "execution_count": 114,
   "id": "d020bdec",
   "metadata": {},
   "outputs": [
    {
     "name": "stderr",
     "output_type": "stream",
     "text": [
      "<ipython-input-114-25fb36e7b3b5>:4: UserWarning: To output multiple subplots, the figure containing the passed axes is being cleared\n",
      "  heart.hist(ax=ax)\n"
     ]
    },
    {
     "data": {
      "image/png": "[encoded data removed]",
      "text/plain": [
       "<Figure size 1008x1296 with 16 Axes>"
      ]
     },
     "metadata": {
      "needs_background": "light"
     },
     "output_type": "display_data"
    }
   ],
   "source": [
    "# проверка распределений с помощью гистограмм\n",
    "fig = plt.figure(figsize = (14,18))\n",
    "ax = fig.gca()\n",
    "heart.hist(ax=ax)\n",
    "plt.show()"
   ]
  },
  {
   "cell_type": "markdown",
   "id": "6bccd4cc",
   "metadata": {},
   "source": [
    "Проанализировав гистаграммы показателей, наличие выбросов можно предположить у таких показателей как:\n",
    "- thalach \n",
    "- trestbps\n",
    "- chol\n",
    "- oldpeak\n",
    "\n",
    "Чтобы изучить особенность поближе, построим коробчатую диаграмму для кадого показателя."
   ]
  },
  {
   "cell_type": "code",
   "execution_count": 115,
   "id": "59716cff",
   "metadata": {},
   "outputs": [
    {
     "data": {
      "text/plain": [
       "<AxesSubplot:>"
      ]
     },
     "execution_count": 115,
     "metadata": {},
     "output_type": "execute_result"
    },
    {
     "data": {
      "image/png": "[encoded data removed]",
      "text/plain": [
       "<Figure size 432x288 with 1 Axes>"
      ]
     },
     "metadata": {
      "needs_background": "light"
     },
     "output_type": "display_data"
    }
   ],
   "source": [
    "heart.boxplot(column=['thalach'])"
   ]
  },
  {
   "cell_type": "markdown",
   "id": "1dd89420",
   "metadata": {},
   "source": [
    "Видим, что есть выброс со значением меньше 80"
   ]
  },
  {
   "cell_type": "code",
   "execution_count": 116,
   "id": "4d930353",
   "metadata": {},
   "outputs": [
    {
     "data": {
      "text/plain": [
       "count    303.000000\n",
       "mean     149.646865\n",
       "std       22.905161\n",
       "min       71.000000\n",
       "25%      133.500000\n",
       "50%      153.000000\n",
       "75%      166.000000\n",
       "max      202.000000\n",
       "Name: thalach, dtype: float64"
      ]
     },
     "execution_count": 116,
     "metadata": {},
     "output_type": "execute_result"
    }
   ],
   "source": [
    "heart['thalach'].describe()"
   ]
  },
  {
   "cell_type": "markdown",
   "id": "9f4e6205",
   "metadata": {},
   "source": [
    "Для признака thalach видно, что минимальное значение равно 71, в то время как 75-й процентиль равен 166. Значение 71 – выброс, его мы удалим."
   ]
  },
  {
   "cell_type": "code",
   "execution_count": 117,
   "id": "e0b6e8e1",
   "metadata": {},
   "outputs": [],
   "source": [
    "heart = heart.drop(heart[heart['thalach'] == 71].index)"
   ]
  },
  {
   "cell_type": "code",
   "execution_count": 118,
   "id": "db197291",
   "metadata": {},
   "outputs": [
    {
     "data": {
      "text/plain": [
       "<AxesSubplot:>"
      ]
     },
     "execution_count": 118,
     "metadata": {},
     "output_type": "execute_result"
    },
    {
     "data": {
      "image/png": "[encoded data removed]",
      "text/plain": [
       "<Figure size 432x288 with 1 Axes>"
      ]
     },
     "metadata": {
      "needs_background": "light"
     },
     "output_type": "display_data"
    }
   ],
   "source": [
    "heart.boxplot(column=['trestbps'])"
   ]
  },
  {
   "cell_type": "code",
   "execution_count": 119,
   "id": "70622a53",
   "metadata": {},
   "outputs": [
    {
     "data": {
      "text/plain": [
       "count    302.000000\n",
       "mean     131.662252\n",
       "std       17.554429\n",
       "min       94.000000\n",
       "25%      120.000000\n",
       "50%      130.000000\n",
       "75%      140.000000\n",
       "max      200.000000\n",
       "Name: trestbps, dtype: float64"
      ]
     },
     "execution_count": 119,
     "metadata": {},
     "output_type": "execute_result"
    }
   ],
   "source": [
    "heart['trestbps'].describe()"
   ]
  },
  {
   "cell_type": "markdown",
   "id": "f1cc0315",
   "metadata": {},
   "source": [
    "Для признака trestbps видно, что cуществуют аномально высокие показатели больше 180, в то время как 75-й процентиль равен 140. Значения выше 180 – выбросы, их мы удалим."
   ]
  },
  {
   "cell_type": "code",
   "execution_count": 120,
   "id": "bfb3d62e",
   "metadata": {},
   "outputs": [],
   "source": [
    "heart = heart.drop(heart[heart['trestbps'] > 180].index)"
   ]
  },
  {
   "cell_type": "code",
   "execution_count": 121,
   "id": "d251bf10",
   "metadata": {},
   "outputs": [
    {
     "data": {
      "text/plain": [
       "<AxesSubplot:>"
      ]
     },
     "execution_count": 121,
     "metadata": {},
     "output_type": "execute_result"
    },
    {
     "data": {
      "image/png": "[encoded data removed]",
      "text/plain": [
       "<Figure size 432x288 with 1 Axes>"
      ]
     },
     "metadata": {
      "needs_background": "light"
     },
     "output_type": "display_data"
    }
   ],
   "source": [
    "heart.boxplot(column=['chol'])"
   ]
  },
  {
   "cell_type": "code",
   "execution_count": 122,
   "id": "53b2369e",
   "metadata": {},
   "outputs": [
    {
     "data": {
      "text/plain": [
       "count    300.000000\n",
       "mean     246.033333\n",
       "std       51.987510\n",
       "min      126.000000\n",
       "25%      211.000000\n",
       "50%      240.000000\n",
       "75%      274.000000\n",
       "max      564.000000\n",
       "Name: chol, dtype: float64"
      ]
     },
     "execution_count": 122,
     "metadata": {},
     "output_type": "execute_result"
    }
   ],
   "source": [
    "heart['chol'].describe()"
   ]
  },
  {
   "cell_type": "markdown",
   "id": "7cc57407",
   "metadata": {},
   "source": [
    "Для признака chol видно, что cуществуют аномально высокие показатели больше 390, в то время как 75-й процентиль равен 274. Значения выше 380 – выбросы, их мы удалим."
   ]
  },
  {
   "cell_type": "code",
   "execution_count": 123,
   "id": "967ee1af",
   "metadata": {},
   "outputs": [],
   "source": [
    "heart = heart.drop(heart[heart['chol'] > 380].index)"
   ]
  },
  {
   "cell_type": "code",
   "execution_count": 124,
   "id": "d2ca6dd0",
   "metadata": {},
   "outputs": [
    {
     "data": {
      "text/plain": [
       "<AxesSubplot:>"
      ]
     },
     "execution_count": 124,
     "metadata": {},
     "output_type": "execute_result"
    },
    {
     "data": {
      "image/png": "[encoded data removed]",
      "text/plain": [
       "<Figure size 432x288 with 1 Axes>"
      ]
     },
     "metadata": {
      "needs_background": "light"
     },
     "output_type": "display_data"
    }
   ],
   "source": [
    "heart.boxplot(column=['oldpeak'])"
   ]
  },
  {
   "cell_type": "code",
   "execution_count": 125,
   "id": "c72db313",
   "metadata": {},
   "outputs": [
    {
     "data": {
      "text/plain": [
       "count    295.000000\n",
       "mean       1.018644\n",
       "std        1.147679\n",
       "min        0.000000\n",
       "25%        0.000000\n",
       "50%        0.600000\n",
       "75%        1.600000\n",
       "max        6.200000\n",
       "Name: oldpeak, dtype: float64"
      ]
     },
     "execution_count": 125,
     "metadata": {},
     "output_type": "execute_result"
    }
   ],
   "source": [
    "heart['oldpeak'].describe()"
   ]
  },
  {
   "cell_type": "markdown",
   "id": "cf0bbf2a",
   "metadata": {},
   "source": [
    "Для признака oldpeak видно, что cуществуют аномально высокие показатели больше 5, в то время как 75-й процентиль равен 1,6. Значения выше 5 – выбросы, их мы удалим."
   ]
  },
  {
   "cell_type": "code",
   "execution_count": 126,
   "id": "6b363940",
   "metadata": {},
   "outputs": [],
   "source": [
    "heart = heart.drop(heart[heart['oldpeak'] > 5].index)"
   ]
  },
  {
   "cell_type": "markdown",
   "id": "1504c95e",
   "metadata": {},
   "source": [
    "Следующим шагом является выявление линейно зависимых данных. Для этого построим матрицу корреляции"
   ]
  },
  {
   "cell_type": "code",
   "execution_count": 127,
   "id": "c4fe71fb",
   "metadata": {},
   "outputs": [
    {
     "data": {
      "image/png": "[encoded data removed]",
      "text/plain": [
       "<Figure size 864x864 with 2 Axes>"
      ]
     },
     "metadata": {
      "needs_background": "light"
     },
     "output_type": "display_data"
    }
   ],
   "source": [
    "sns.heatmap(heart.corr(),annot=True,cmap='RdYlGn',linewidths=0.2) \n",
    "fig=plt.gcf()\n",
    "fig.set_size_inches(12,12)\n",
    "plt.show()"
   ]
  },
  {
   "cell_type": "markdown",
   "id": "0a4d10f5",
   "metadata": {},
   "source": [
    "Проанализировав матрицу можно сделать вывод о том, что между показателями отсутствует мультиколлинеарность, а наиболее коррелированными показателями с целевой переменной target являются: cp, thalach, exang, oldpeak, slope, ca, thal.  \n",
    "Эти показатели обязательно должны быть включены в выборку для системы классификации."
   ]
  },
  {
   "cell_type": "markdown",
   "id": "42e06020",
   "metadata": {},
   "source": [
    "Для начала рассмотрим линейную регрессию на примере двух линейных показателей - age (возраст) и thalach (максимальная частота пульса), которые имею большую линейную зависимость."
   ]
  },
  {
   "cell_type": "code",
   "execution_count": 128,
   "id": "fdde110c",
   "metadata": {},
   "outputs": [
    {
     "name": "stdout",
     "output_type": "stream",
     "text": [
      "intercept: 78.65764937479724\n",
      "slope: [-0.16353203]\n"
     ]
    }
   ],
   "source": [
    "#обучаем модель\n",
    "age = heart['age']\n",
    "thalach = heart['thalach']\n",
    "model = LinearRegression()\n",
    "result = model.fit(np.array(thalach).reshape(-1,1), age)\n",
    "\n",
    "print('intercept:', model.intercept_)\n",
    "print('slope:', model.coef_)"
   ]
  },
  {
   "cell_type": "markdown",
   "id": "576497a1",
   "metadata": {},
   "source": [
    "На основе подобранных коэффициентов intercept (коэффициент b в уравнении прямой y=kx+b) и slope (коэффициент k в уравнении прямой) построим прямую, которая наилучшим образом описывает линейную зависимость наших параметров."
   ]
  },
  {
   "cell_type": "code",
   "execution_count": 129,
   "id": "6f6e9739",
   "metadata": {},
   "outputs": [
    {
     "data": {
      "image/png": "[encoded data removed]",
      "text/plain": [
       "<Figure size 432x288 with 1 Axes>"
      ]
     },
     "metadata": {
      "needs_background": "light"
     },
     "output_type": "display_data"
    }
   ],
   "source": [
    "plt.xlabel('thalach')\n",
    "plt.ylabel('age')\n",
    "plt.title('Линейная регрессия')\n",
    "x = np.linspace(min(thalach), max(thalach), 100)\n",
    "y = model.coef_*x + model.intercept_\n",
    "plt.plot(x,y)\n",
    "plt.plot(thalach, age, 'r.')\n",
    "plt.show()"
   ]
  },
  {
   "cell_type": "markdown",
   "id": "7cb7e12a",
   "metadata": {},
   "source": [
    "Итак появилась модель, которая будет по максимальной частоте пульса предсказывать возраст пациента."
   ]
  },
  {
   "cell_type": "markdown",
   "id": "701145be",
   "metadata": {},
   "source": [
    "Попробуем спрогнозировать возраст пациента на основе обученной модели, задав конкретное значения параметра thalach."
   ]
  },
  {
   "cell_type": "code",
   "execution_count": 130,
   "id": "a21e0d20",
   "metadata": {},
   "outputs": [
    {
     "name": "stdout",
     "output_type": "stream",
     "text": [
      "Возраст пациента : [52.4925252]\n"
     ]
    }
   ],
   "source": [
    "print ('Возраст пациента :', model.predict(np.array([160]).reshape(-1, 1)))"
   ]
  },
  {
   "cell_type": "markdown",
   "id": "6647c19d",
   "metadata": {},
   "source": [
    "По заданной максимальной частоте пульса равной 160, модель предсказала нам, что пациенту 52 года, посмотрим, сколько лет людям в выборке с таким значением пульса"
   ]
  },
  {
   "cell_type": "code",
   "execution_count": 131,
   "id": "706f4ea7",
   "metadata": {},
   "outputs": [
    {
     "data": {
      "text/html": [
       "<div>\n",
       "<style scoped>\n",
       "    .dataframe tbody tr th:only-of-type {\n",
       "        vertical-align: middle;\n",
       "    }\n",
       "\n",
       "    .dataframe tbody tr th {\n",
       "        vertical-align: top;\n",
       "    }\n",
       "\n",
       "    .dataframe thead th {\n",
       "        text-align: right;\n",
       "    }\n",
       "</style>\n",
       "<table border=\"1\" class=\"dataframe\">\n",
       "  <thead>\n",
       "    <tr style=\"text-align: right;\">\n",
       "      <th></th>\n",
       "      <th>age</th>\n",
       "      <th>sex</th>\n",
       "      <th>cp</th>\n",
       "      <th>trestbps</th>\n",
       "      <th>chol</th>\n",
       "      <th>fbs</th>\n",
       "      <th>restecg</th>\n",
       "      <th>thalach</th>\n",
       "      <th>exang</th>\n",
       "      <th>oldpeak</th>\n",
       "      <th>slope</th>\n",
       "      <th>ca</th>\n",
       "      <th>thal</th>\n",
       "      <th>target</th>\n",
       "    </tr>\n",
       "  </thead>\n",
       "  <tbody>\n",
       "    <tr>\n",
       "      <th>10</th>\n",
       "      <td>54</td>\n",
       "      <td>1</td>\n",
       "      <td>0</td>\n",
       "      <td>140</td>\n",
       "      <td>239</td>\n",
       "      <td>0</td>\n",
       "      <td>1</td>\n",
       "      <td>160</td>\n",
       "      <td>0</td>\n",
       "      <td>1.2</td>\n",
       "      <td>2</td>\n",
       "      <td>0</td>\n",
       "      <td>2</td>\n",
       "      <td>1</td>\n",
       "    </tr>\n",
       "    <tr>\n",
       "      <th>35</th>\n",
       "      <td>46</td>\n",
       "      <td>0</td>\n",
       "      <td>2</td>\n",
       "      <td>142</td>\n",
       "      <td>177</td>\n",
       "      <td>0</td>\n",
       "      <td>0</td>\n",
       "      <td>160</td>\n",
       "      <td>1</td>\n",
       "      <td>1.4</td>\n",
       "      <td>0</td>\n",
       "      <td>0</td>\n",
       "      <td>2</td>\n",
       "      <td>1</td>\n",
       "    </tr>\n",
       "    <tr>\n",
       "      <th>49</th>\n",
       "      <td>53</td>\n",
       "      <td>0</td>\n",
       "      <td>0</td>\n",
       "      <td>138</td>\n",
       "      <td>234</td>\n",
       "      <td>0</td>\n",
       "      <td>0</td>\n",
       "      <td>160</td>\n",
       "      <td>0</td>\n",
       "      <td>0.0</td>\n",
       "      <td>2</td>\n",
       "      <td>0</td>\n",
       "      <td>2</td>\n",
       "      <td>1</td>\n",
       "    </tr>\n",
       "    <tr>\n",
       "      <th>82</th>\n",
       "      <td>60</td>\n",
       "      <td>0</td>\n",
       "      <td>2</td>\n",
       "      <td>102</td>\n",
       "      <td>318</td>\n",
       "      <td>0</td>\n",
       "      <td>1</td>\n",
       "      <td>160</td>\n",
       "      <td>0</td>\n",
       "      <td>0.0</td>\n",
       "      <td>2</td>\n",
       "      <td>1</td>\n",
       "      <td>2</td>\n",
       "      <td>1</td>\n",
       "    </tr>\n",
       "    <tr>\n",
       "      <th>167</th>\n",
       "      <td>62</td>\n",
       "      <td>0</td>\n",
       "      <td>0</td>\n",
       "      <td>140</td>\n",
       "      <td>268</td>\n",
       "      <td>0</td>\n",
       "      <td>0</td>\n",
       "      <td>160</td>\n",
       "      <td>0</td>\n",
       "      <td>3.6</td>\n",
       "      <td>0</td>\n",
       "      <td>2</td>\n",
       "      <td>2</td>\n",
       "      <td>0</td>\n",
       "    </tr>\n",
       "    <tr>\n",
       "      <th>172</th>\n",
       "      <td>58</td>\n",
       "      <td>1</td>\n",
       "      <td>1</td>\n",
       "      <td>120</td>\n",
       "      <td>284</td>\n",
       "      <td>0</td>\n",
       "      <td>0</td>\n",
       "      <td>160</td>\n",
       "      <td>0</td>\n",
       "      <td>1.8</td>\n",
       "      <td>1</td>\n",
       "      <td>0</td>\n",
       "      <td>2</td>\n",
       "      <td>0</td>\n",
       "    </tr>\n",
       "    <tr>\n",
       "      <th>176</th>\n",
       "      <td>60</td>\n",
       "      <td>1</td>\n",
       "      <td>0</td>\n",
       "      <td>117</td>\n",
       "      <td>230</td>\n",
       "      <td>1</td>\n",
       "      <td>1</td>\n",
       "      <td>160</td>\n",
       "      <td>1</td>\n",
       "      <td>1.4</td>\n",
       "      <td>2</td>\n",
       "      <td>2</td>\n",
       "      <td>3</td>\n",
       "      <td>0</td>\n",
       "    </tr>\n",
       "    <tr>\n",
       "      <th>261</th>\n",
       "      <td>52</td>\n",
       "      <td>1</td>\n",
       "      <td>0</td>\n",
       "      <td>112</td>\n",
       "      <td>230</td>\n",
       "      <td>0</td>\n",
       "      <td>1</td>\n",
       "      <td>160</td>\n",
       "      <td>0</td>\n",
       "      <td>0.0</td>\n",
       "      <td>2</td>\n",
       "      <td>1</td>\n",
       "      <td>2</td>\n",
       "      <td>0</td>\n",
       "    </tr>\n",
       "  </tbody>\n",
       "</table>\n",
       "</div>"
      ],
      "text/plain": [
       "     age  sex  cp  trestbps  chol  fbs  restecg  thalach  exang  oldpeak  \\\n",
       "10    54    1   0       140   239    0        1      160      0      1.2   \n",
       "35    46    0   2       142   177    0        0      160      1      1.4   \n",
       "49    53    0   0       138   234    0        0      160      0      0.0   \n",
       "82    60    0   2       102   318    0        1      160      0      0.0   \n",
       "167   62    0   0       140   268    0        0      160      0      3.6   \n",
       "172   58    1   1       120   284    0        0      160      0      1.8   \n",
       "176   60    1   0       117   230    1        1      160      1      1.4   \n",
       "261   52    1   0       112   230    0        1      160      0      0.0   \n",
       "\n",
       "     slope  ca  thal  target  \n",
       "10       2   0     2       1  \n",
       "35       0   0     2       1  \n",
       "49       2   0     2       1  \n",
       "82       2   1     2       1  \n",
       "167      0   2     2       0  \n",
       "172      1   0     2       0  \n",
       "176      2   2     3       0  \n",
       "261      2   1     2       0  "
      ]
     },
     "execution_count": 131,
     "metadata": {},
     "output_type": "execute_result"
    }
   ],
   "source": [
    "heart[heart['thalach'] == 160]"
   ]
  },
  {
   "cell_type": "markdown",
   "id": "41d2288c",
   "metadata": {},
   "source": [
    "Видим, что возраст людей, которые имеют максимальную частоту пульса 160 сильно разбросан (46-62 года)."
   ]
  },
  {
   "cell_type": "markdown",
   "id": "8c4cd7cc",
   "metadata": {},
   "source": [
    "Оценим точность нашей модели"
   ]
  },
  {
   "cell_type": "code",
   "execution_count": 132,
   "id": "2461e0a8",
   "metadata": {},
   "outputs": [
    {
     "data": {
      "text/plain": [
       "0.16327326250368068"
      ]
     },
     "execution_count": 132,
     "metadata": {},
     "output_type": "execute_result"
    }
   ],
   "source": [
    "model.score(np.array(thalach).reshape(-1,1), age)"
   ]
  },
  {
   "cell_type": "markdown",
   "id": "99036537",
   "metadata": {},
   "source": [
    "Точность является очень низкой, возможно из-за того, что мы предсказывали возраст с помощью одного параметра. Модель, у которой число независимых переменных две или более, называется множественной линейной регрессией. Именно с помощью нее попробуем предсказать более точно возраст пациента."
   ]
  },
  {
   "cell_type": "markdown",
   "id": "54149c59",
   "metadata": {},
   "source": [
    "## Множественная линейная регрессия"
   ]
  },
  {
   "cell_type": "markdown",
   "id": "db9432da",
   "metadata": {},
   "source": [
    "Необходимо выбрать такую модель, в которой определенный набор независимых переменных сможет наилучшим образом предсказать целевой параметр. Для сравнения моделей с разным числом параметров, когда требуется выбрать лучший набор независимых переменных, используется информационный критерий Акаике (AIC). \n",
    "\n",
    "Чем меньше значение критерия, тем лучше модель. Сначала вычислим значение критерия для показателя thalach, который имеет наибольшую корреляцию с целевой переменной. Затем в модель поочередно будем добавлять параметры, которые убывают по величине корреляции в сравнении с thalach, и смотреть, что покажет критерий. Далее выберем модель, для которой значение критерия окажется минимальным."
   ]
  },
  {
   "cell_type": "code",
   "execution_count": 133,
   "id": "e1e1e744",
   "metadata": {},
   "outputs": [
    {
     "name": "stdout",
     "output_type": "stream",
     "text": [
      "2077.3663227503885\n"
     ]
    }
   ],
   "source": [
    "X =  heart['thalach']\n",
    "y = heart['age']\n",
    "X = sm.add_constant (X)\n",
    "model = sm.OLS(y, X).fit()\n",
    "print(model.aic)"
   ]
  },
  {
   "cell_type": "code",
   "execution_count": 134,
   "id": "96d5c98d",
   "metadata": {},
   "outputs": [
    {
     "name": "stdout",
     "output_type": "stream",
     "text": [
      "2043.0677530276437\n"
     ]
    }
   ],
   "source": [
    "X =  heart[['thalach','trestbps', 'chol', 'oldpeak','slope', 'ca']]\n",
    "y = heart['age']\n",
    "X = sm.add_constant (X)\n",
    "model = sm.OLS(y, X).fit()\n",
    "print(model.aic)"
   ]
  },
  {
   "cell_type": "markdown",
   "id": "b30d1fef",
   "metadata": {},
   "source": [
    "Для модели был выбран следующий набор независимых переменных: [ 'thalach', 'trestbps', 'chol', 'oldpeak','slope', 'ca' ]. Далее разделим модель на тренировочную и тестовую выборки. Соответственно, на тренировочную выборке обучим нашу модель, а на тестовой будем предсказывать данные."
   ]
  },
  {
   "cell_type": "code",
   "execution_count": 135,
   "id": "a8f099a2",
   "metadata": {},
   "outputs": [],
   "source": [
    "# делим на тренировочную и тестовую выборки: 80 % - 20 %\n",
    "X_train, X_test, y_train, y_test = train_test_split(X,y,test_size = 0.2, random_state = 15)"
   ]
  },
  {
   "cell_type": "code",
   "execution_count": 136,
   "id": "c4e2d632",
   "metadata": {},
   "outputs": [
    {
     "data": {
      "text/plain": [
       "LinearRegression()"
      ]
     },
     "execution_count": 136,
     "metadata": {},
     "output_type": "execute_result"
    }
   ],
   "source": [
    "#обучаем модель\n",
    "model = LinearRegression()\n",
    "model.fit(X_train, y_train)"
   ]
  },
  {
   "cell_type": "markdown",
   "id": "1b8b5334",
   "metadata": {},
   "source": [
    "Предскажем возраст для первых 5 людей из тестовой выборки."
   ]
  },
  {
   "cell_type": "code",
   "execution_count": 137,
   "id": "f9799425",
   "metadata": {},
   "outputs": [
    {
     "data": {
      "text/plain": [
       "array([54.39842285, 55.31322989, 45.9652617 , 50.6353279 , 59.00905669])"
      ]
     },
     "execution_count": 137,
     "metadata": {},
     "output_type": "execute_result"
    }
   ],
   "source": [
    "y_pred = model.predict(X_test)\n",
    "y_pred[0:5]"
   ]
  },
  {
   "cell_type": "markdown",
   "id": "53bb6c44",
   "metadata": {},
   "source": [
    "Посмотрим, какой возраст был на самом деле в тестовой выборке"
   ]
  },
  {
   "cell_type": "code",
   "execution_count": 138,
   "id": "8fbb8303",
   "metadata": {},
   "outputs": [
    {
     "data": {
      "text/plain": [
       "array([42, 67, 46, 51, 58], dtype=int64)"
      ]
     },
     "execution_count": 138,
     "metadata": {},
     "output_type": "execute_result"
    }
   ],
   "source": [
    "np.array(y_test)[0:5]"
   ]
  },
  {
   "cell_type": "markdown",
   "id": "da555011",
   "metadata": {},
   "source": [
    "Можно увидеть, что для первых двух пациентов предсказанный и истинный возраст сильно отличается. А для следующих трех пациентов разница составляет всего 1 год. Определим точность с помощью средней квадратической ошибки."
   ]
  },
  {
   "cell_type": "code",
   "execution_count": 139,
   "id": "858d1f3e",
   "metadata": {},
   "outputs": [
    {
     "name": "stdout",
     "output_type": "stream",
     "text": [
      "8.749581683135492\n"
     ]
    }
   ],
   "source": [
    "print(mean_squared_error(y_pred, np.array(y_test))**0.5)"
   ]
  },
  {
   "cell_type": "markdown",
   "id": "622ae0fa",
   "metadata": {},
   "source": [
    "Средняя квадратическая ошибка показывает, что в среднем наша модель определяет неверно возраст пациента почти на 9 лет. Посмотрим, как оценит точность нашей модели метод score()."
   ]
  },
  {
   "cell_type": "code",
   "execution_count": 140,
   "id": "e0b4673f",
   "metadata": {},
   "outputs": [
    {
     "data": {
      "text/plain": [
       "0.27686868543321175"
      ]
     },
     "execution_count": 140,
     "metadata": {},
     "output_type": "execute_result"
    }
   ],
   "source": [
    "model.score(X, y)"
   ]
  },
  {
   "cell_type": "markdown",
   "id": "f8eb0638",
   "metadata": {},
   "source": [
    "Метод score() показал, что наша модель плохо определяет целевую переменную. Но если сранивать с одномерной линейной регрессией, где точность по методу score() была 0.16, множественная линейная регрессия дает более точный результат. Но использовать на приктике данную модель я не рекомендую, так как точность 0.27 является очень низкой. Скорее всего из-за того, что входные параметры имели слабую корреляцию с целевой переменной, где максимальная из них была всего 0.4 (параметр thalach), не удалось постороить более точную предсказательную модель."
   ]
  },
  {
   "cell_type": "markdown",
   "id": "311209a1",
   "metadata": {},
   "source": [
    "## Логистическая регрессия"
   ]
  },
  {
   "cell_type": "markdown",
   "id": "3ecae257",
   "metadata": {},
   "source": [
    "Рассмотрим логистическую регрессию, которая использует логистическую функцию для моделирования зависимости целевой переменной от набора входных данных, когда в случае, когда целевая переменная является бинарной.\n",
    "\n",
    "В нашей выборке такой переменной является target, которая показывает наличие или отсутствие серечного заболевания."
   ]
  },
  {
   "cell_type": "markdown",
   "id": "88e92f19",
   "metadata": {},
   "source": [
    "Разделим выборку на целевой параметр и на входные параметры, которые на нее влияют, а затем разделим модель на тренировочную и тестовую выборки."
   ]
  },
  {
   "cell_type": "code",
   "execution_count": 143,
   "id": "8201934d",
   "metadata": {},
   "outputs": [],
   "source": [
    "# определяем х и у\n",
    "y = heart['target']\n",
    "X = heart.drop(['target'], axis = 1)\n",
    "\n",
    "# деление на обучающую и тестовую выборки: 80 % - 20 %\n",
    "X_train, X_test, y_train, y_test = train_test_split(X, y, test_size = 0.2, random_state=29)"
   ]
  },
  {
   "cell_type": "code",
   "execution_count": 144,
   "id": "07da0eff",
   "metadata": {},
   "outputs": [],
   "source": [
    "#обучаем модель\n",
    "heart_reg = LogisticRegression(\n",
    "    # для небольших датасетов лучше подходит метод для поиска решения liblinear\n",
    "    solver = 'liblinear').fit(X_train, y_train)\n",
    "heart_reg_pred = heart_reg.predict(X_test)"
   ]
  },
  {
   "cell_type": "markdown",
   "id": "9e187c93",
   "metadata": {},
   "source": [
    "Предскажем диагноз для первых 5 людей из тестовой выборки."
   ]
  },
  {
   "cell_type": "code",
   "execution_count": 145,
   "id": "d453cf88",
   "metadata": {},
   "outputs": [
    {
     "data": {
      "text/plain": [
       "array([0, 1, 0, 1, 1], dtype=int64)"
      ]
     },
     "execution_count": 145,
     "metadata": {},
     "output_type": "execute_result"
    }
   ],
   "source": [
    "heart_reg_pred[0:5] "
   ]
  },
  {
   "cell_type": "markdown",
   "id": "b299f15e",
   "metadata": {},
   "source": [
    "Посмотрим, какой диагноз был на самом деле в тестовой выборке."
   ]
  },
  {
   "cell_type": "code",
   "execution_count": 146,
   "id": "60b38ed1",
   "metadata": {},
   "outputs": [
    {
     "data": {
      "text/plain": [
       "244    0\n",
       "160    1\n",
       "219    0\n",
       "2      1\n",
       "54     1\n",
       "Name: target, dtype: int64"
      ]
     },
     "execution_count": 146,
     "metadata": {},
     "output_type": "execute_result"
    }
   ],
   "source": [
    "y_test[0:5]"
   ]
  },
  {
   "cell_type": "markdown",
   "id": "e6896837",
   "metadata": {},
   "source": [
    "Модель верно угадала диагноз для первых 5 людей из тестовой выборки. Посмотрим на точность нашей модели"
   ]
  },
  {
   "cell_type": "code",
   "execution_count": 147,
   "id": "fda3b816",
   "metadata": {},
   "outputs": [
    {
     "data": {
      "text/plain": [
       "0.8305084745762712"
      ]
     },
     "execution_count": 147,
     "metadata": {},
     "output_type": "execute_result"
    }
   ],
   "source": [
    "heart_reg.score(X_test, y_test)"
   ]
  },
  {
   "cell_type": "markdown",
   "id": "49aaaacf",
   "metadata": {},
   "source": [
    "Метод оценки точности score() показал, что наша модель хорошо определяет классы. \n",
    "\n",
    "Составим матрицу неточностей, которая покажет насколько точно модель определяет классы путем сравнения прогнозируемого значения целевой переменной с ее фактическим значением."
   ]
  },
  {
   "cell_type": "code",
   "execution_count": 153,
   "id": "89460daa",
   "metadata": {},
   "outputs": [
    {
     "data": {
      "text/plain": [
       "Text(0.5, 1.0, 'Матрица неточностей')"
      ]
     },
     "execution_count": 153,
     "metadata": {},
     "output_type": "execute_result"
    },
    {
     "data": {
      "image/png": "[encoded data removed]",
      "text/plain": [
       "<Figure size 432x288 with 2 Axes>"
      ]
     },
     "metadata": {
      "needs_background": "light"
     },
     "output_type": "display_data"
    }
   ],
   "source": [
    "cnf_matrix_log = confusion_matrix(y_test, heart_reg_pred)\n",
    "\n",
    "sns.heatmap(pd.DataFrame(cnf_matrix_log), annot=True,cmap=\"Reds\" , fmt='g')\n",
    "ax.xaxis.set_label_position(\"top\")\n",
    "plt.tight_layout()\n",
    "plt.title('Матрица неточностей')"
   ]
  },
  {
   "cell_type": "markdown",
   "id": "e8e11c84",
   "metadata": {},
   "source": [
    "Матрица неточности показала, что к числу здоровых пациентов правильно было определено 24 пациента, ко числу больных пациентов - 25. Ложно к здоровым пациентам определено - 6, к больным - 4 пациента."
   ]
  },
  {
   "cell_type": "markdown",
   "id": "9fdfa2f1",
   "metadata": {},
   "source": [
    "Можно сделать вывод, что модель хорошо предсказывает болезнь сердца по входным показателям."
   ]
  }
 ],
 "metadata": {
  "kernelspec": {
   "display_name": "Python 3",
   "language": "python",
   "name": "python3"
  },
  "language_info": {
   "codemirror_mode": {
    "name": "ipython",
    "version": 3
   },
   "file_extension": ".py",
   "mimetype": "text/x-python",
   "name": "python",
   "nbconvert_exporter": "python",
   "pygments_lexer": "ipython3",
   "version": "3.8.8"
  }
 },
 "nbformat": 4,
 "nbformat_minor": 5
}
